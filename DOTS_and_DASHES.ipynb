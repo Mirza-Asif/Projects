{
 "cells": [
  {
   "cell_type": "markdown",
   "metadata": {},
   "source": [
    "# Machine Learning Project to Learn The Games of Dots"
   ]
  },
  {
   "cell_type": "markdown",
   "metadata": {},
   "source": [
    "*By Asif Anwar Baig Mirza, May 9 2018*"
   ]
  },
  {
   "cell_type": "markdown",
   "metadata": {},
   "source": [
    "### Reinforcement Learning for Two Player Games"
   ]
  },
  {
   "cell_type": "markdown",
   "metadata": {},
   "source": [
    "## Introduction"
   ]
  },
  {
   "cell_type": "markdown",
   "metadata": {},
   "source": [
    "The state is the board configuration. There are  $2^{20} + 2^{20} + 3^{16}$  of them, not all are reachable. \n",
    "The number adds up to 44,095,337\n",
    "This number is way too big for us to run all of the combinations or even half of the combination. However, the system learns the combination which are repetitive, for example the first move can be learnt. However, we cannot determine if the first move learnt is a good move or not. "
   ]
  },
  {
   "cell_type": "markdown",
   "metadata": {},
   "source": [
    "We use a dictionary to represent the Q table with a key and a value, where key is the current state and the value is the move which the we have made to reach the next state, a 0 is assigned if that value has led to a draw, and a 1 is assigned if we win. We assign a -1 when ever the opponent wins a point in the game.\n",
    "\n",
    "We also assign a constant error and try to adjust our values accordingly so that we are learning continously from a bad move."
   ]
  },
  {
   "cell_type": "markdown",
   "metadata": {},
   "source": [
    "There are total of 16 points to win in one game and if a player wins more than 8 points it wins the game. We have designed the game to win as many points as possible within a game and when ever we encounter a win we update out table and if we don't have a table of Q we create a table of Q and update the respective value. "
   ]
  },
  {
   "cell_type": "markdown",
   "metadata": {},
   "source": [
    "#### How to Play The Game"
   ]
  },
  {
   "cell_type": "markdown",
   "metadata": {},
   "source": [
    "Once a player is given a chance to play, the Player can play either a line or a dash. Once a box has been created the player who created the box gets a point and most number of points lead to win at the board. This is a cumulative game where the result of who won is know by all the points they have acquired playing during a game and every point they have acquired is stored and used to learn continously.  \n",
    "\n",
    "There also a move where the player who has won a point gets an other chance to make a move hence giving him an advantage if he is close to winning.\n",
    "\n",
    "There are very rare cases of a game ending in a Draw. \n",
    "\n",
    "We have represented the board using dash(-) and a vertical line(|). An empty board would look as follows. \n",
    "\n",
    "\n",
    "\n",
    "       .  .  .  .  .\n",
    "        $  $  $  $\n",
    "       .  .  .  .  .\n",
    "        $  $  $  $\n",
    "       .  .  .  .  .\n",
    "        $  $  $  $\n",
    "       .  .  .  .  .\n",
    "        $  $  $  $\n",
    "       .  .  .  .  .\n",
    "\n",
    "And a completely filled up board would look as follows.\n",
    "\n",
    "     .--.--.--.--.\n",
    "     |O |X |O |X | \n",
    "     .--.--.--.--.\n",
    "     |X |O |O |X |\n",
    "     .--.--.--.--.\n",
    "     |X |O |O |X | \n",
    "     .--.--.--.--.\n",
    "     |X |X |O |O |\n",
    "     .--.--.--.--.\n",
    "     \n",
    "In this particular situtaition Player X has won the game.\n",
    "\n",
    "We represent the empty boxes with '$' so that we know that's not a valid move to make however, it's essential to read the value X or O since the characted drawn after the move has been made is essential to assign points. \n",
    "\n",
    "Here X is the learning player and O is just a random player. \n"
   ]
  },
  {
   "cell_type": "markdown",
   "metadata": {},
   "source": [
    "## Method"
   ]
  },
  {
   "cell_type": "markdown",
   "metadata": {},
   "source": [
    "We implement the method of Reinforcement Learning.\n",
    "\n",
    "Reinforcement Learning is a reward based learning where the algorithm explores all the possibilities and when it has made a right decision it's given a reward for making the right decision. In our case for doing the right move it has acquired a point (1). \n",
    "\n",
    "Reinforcement is like a baby trying to walk for the first time. The baby has to know how to stand first inorder to walk and to be able to stand the baby has to use the right muscles in the body and use the sense of balance to make sure he is able to stand properly with a support and whitout a support first, Once the baby has learnd to walk it has to make the next step towards moving his legs and arms and head in a way that he moves forward. During this whole process the baby falls a lot times before actually being able to stand and then next being able to walk properly. \n",
    "\n",
    "We use the exact same method for the system to learn to win games. The idea to teach the game to win points instead of a whole game, winning more number of points gives a win in the game. As mentioned above there are about 44Million possibilities which can occour and 44Million possibilities to learn the whole of the game. Once we have a knowledge of atleast more than half of the possibilities we should be able to make correct and adaptive decisions so as to win every possible game. "
   ]
  },
  {
   "cell_type": "code",
   "execution_count": 251,
   "metadata": {
    "collapsed": true
   },
   "outputs": [],
   "source": [
    "import numpy as np\n",
    "import matplotlib.pyplot as plt\n",
    "%matplotlib inline\n",
    "from copy import copy\n",
    "import random\n",
    "import sys\n",
    "\n",
    "from IPython.display import display, clear_output"
   ]
  },
  {
   "cell_type": "markdown",
   "metadata": {},
   "source": [
    "This function is to make sure that we represent our board as it is supposed to look "
   ]
  },
  {
   "cell_type": "code",
   "execution_count": 301,
   "metadata": {
    "collapsed": true
   },
   "outputs": [],
   "source": [
    "def printBoard(board):\n",
    "    print('''\n",
    ".{}.{}.{}.{}.\n",
    "{}{}{}{}{}{}{}{}{}\n",
    ".{}.{}.{}.{}.\n",
    "{}{}{}{}{}{}{}{}{}\n",
    ".{}.{}.{}.{}.\n",
    "{}{}{}{}{}{}{}{}{}\n",
    ".{}.{}.{}.{}.\n",
    "{}{}{}{}{}{}{}{}{}\n",
    ".{}.{}.{}.{}.'''.format(*tuple(board)))\n",
    "          "
   ]
  },
  {
   "cell_type": "markdown",
   "metadata": {},
   "source": [
    "    PlotOutcomes\n",
    "This function is used to make sure that the graph we are drawing looks like it's supposed to and we are plotting number of wins player X has won and lost and if there are any draws if there is any draw."
   ]
  },
  {
   "cell_type": "code",
   "execution_count": 302,
   "metadata": {
    "collapsed": true
   },
   "outputs": [],
   "source": [
    "def plotOutcomes(outcomes,epsilons,maxGames,nGames):\n",
    "    if nGames==0:\n",
    "        return\n",
    "    nBins = 100\n",
    "    nPer = int(maxGames/nBins)\n",
    "    outcomeRows = outcomes.reshape((-1,nPer))\n",
    "    outcomeRows = outcomeRows[:int(nGames/float(nPer))+1,:]\n",
    "    avgs = np.mean(outcomeRows,axis=1)\n",
    "    plt.subplot(3,1,1)\n",
    "    xs = np.linspace(nPer,nGames,len(avgs))\n",
    "    plt.plot(xs, avgs)\n",
    "    plt.xlabel('Games')\n",
    "    plt.ylabel('Mean of Outcomes\\n(0=draw, 1=X win, -1=O win)')\n",
    "    plt.title('Bins of {:d} Games'.format(nPer))\n",
    "    plt.subplot(3,1,2)\n",
    "    plt.plot(xs,np.sum(outcomeRows==-1,axis=1),'r-',label='Losses')\n",
    "    plt.plot(xs,np.sum(outcomeRows==0,axis=1),'b-',label='Draws')\n",
    "    plt.plot(xs,np.sum(outcomeRows==1,axis=1),'g-',label='Wins')\n",
    "    plt.legend(loc=\"center\")\n",
    "    plt.ylabel('Number of Games\\nin Bins of {:d}'.format(nPer))\n",
    "    plt.subplot(3,1,3)\n",
    "    plt.plot(epsilons[:nGames])\n",
    "    plt.ylabel('$\\epsilon$')"
   ]
  },
  {
   "cell_type": "markdown",
   "metadata": {},
   "source": [
    "This function helps us make our move which helps us learn and predict the next move. In the start, our moves are completely random and we are still making steps to learn which ones are the good moves and which ones are not. Once we have made quite a number of moves (based on the epsilon value) we decide that we have learnt the algorithm and start using our Q function to check if we have already made the same move in the past and iteratively learn from the move we have already made. "
   ]
  },
  {
   "cell_type": "code",
   "execution_count": 303,
   "metadata": {
    "collapsed": true
   },
   "outputs": [],
   "source": [
    "def epsilonGreedy(epsilon, Q, board):\n",
    "    validMoves = np.where(board == ' ')[0]\n",
    "    if np.random.uniform() < epsilon:\n",
    "        # Random Move\n",
    "        return np.random.choice(validMoves)\n",
    "    else:\n",
    "        # Greedy Move\n",
    "        np.random.shuffle(validMoves)\n",
    "        Qs = np.array([Q.get((tuple(board),m), 0) for m in validMoves]) \n",
    "        return validMoves[ np.argmax(Qs) ]"
   ]
  },
  {
   "cell_type": "markdown",
   "metadata": {},
   "source": [
    "    Move\n",
    "This function decides if a dash has to be inserted or a line has to be inserted, we cannot insert everything everywhere hence this function helps us make a correct decision. "
   ]
  },
  {
   "cell_type": "code",
   "execution_count": 304,
   "metadata": {
    "collapsed": true
   },
   "outputs": [],
   "source": [
    "def Move(move):\n",
    "    if ((move==0) |(move==1) |(move==2) |(move==3) |(move==13)|(move==14)|(move==15)|(move==16)|\n",
    "        (move==26)|(move==27)|(move==28)|(move==29)|(move==39)|(move==40)|(move==41)|(move==42)|\n",
    "        (move==52)|(move==53)|(move==54)|(move==55)):\n",
    "        return('-')\n",
    "    \n",
    "    elif((move==4)|(move==6) |(move==8) |(move==10)|(move==12)|(move==17)|(move==19)|(move==21)|\n",
    "        (move==23)|(move==25)|(move==30)|(move==32)|(move==34)|(move==36)|(move==38)|(move==43)|\n",
    "        (move==45)|(move==47)|(move==49)|(move==51)):\n",
    "        return('|')\n",
    "    \n",
    "    else:\n",
    "        return('$')"
   ]
  },
  {
   "cell_type": "markdown",
   "metadata": {},
   "source": [
    "    point\n",
    "The point function assigns the value X or O in the table once a matching combination is detected by the board. There are total of 16 possible combination which can get a point (i.e. the name X or O inside the table.) In order to avoid redundancy on the writing if a combination has already been detected we are skipping the combination and continuing with next step. This helps us count one possibility only once. Returning the board state with updated value once we have made decision, i.e. either there is a update or no update or none of the conditions satisfy."
   ]
  },
  {
   "cell_type": "code",
   "execution_count": 305,
   "metadata": {
    "collapsed": true
   },
   "outputs": [],
   "source": [
    "# This function just gives a point for a valid move made.\n",
    "def point(check, Player, board): #Incomplete, have to return to a function with updated values.\n",
    "    Point = False\n",
    "    Temp_board = board\n",
    "    Empty_Spaces = (5,7,9,11,18,20,22,24,31,33,35,37,44,46,48,50)\n",
    "    Combo = np.array((0, 4, 6, 13, # no relation with anything else \n",
    "                   1, 6, 8, 14, \n",
    "                   2, 8, 10, 15, \n",
    "                   3, 10, 12, 16,\n",
    "                   13, 17, 19, 26,\n",
    "                   14, 19, 21, 27,\n",
    "                   15, 21, 23, 28,\n",
    "                   16, 23, 25, 29,\n",
    "                   26, 30, 32, 39,\n",
    "                   27, 32, 34, 40,\n",
    "                   28, 34, 36, 41,\n",
    "                   29, 36, 38, 42,\n",
    "                   39, 43, 45, 52,\n",
    "                   40, 45, 47, 53,\n",
    "                   41, 47, 49, 54,\n",
    "                   42, 49, 51, 55)).reshape(-1,4)\n",
    "\n",
    "    for i in range(len(Combo)-1):\n",
    "        if(np.array_equal(check,Combo[i]) == True):\n",
    "            Point_At = i\n",
    "            Fill = Empty_Spaces[Point_At]\n",
    "            \n",
    "            if((Temp_board[Fill]=='X')or(Temp_board[Fill]=='O')):\n",
    "                Point = False\n",
    "                return(Point,Temp_board)\n",
    "                    \n",
    "            Temp_board[Fill]= Player\n",
    "            Point = True\n",
    "            #printBoard(Temp_board)\n",
    "            #sys.exit(\"Enters the True state\")\n",
    "            return (Point, Temp_board)\n",
    "        \n",
    "    return (Point, Temp_board)        "
   ]
  },
  {
   "cell_type": "markdown",
   "metadata": {},
   "source": [
    "    pointCheck\n",
    "Once we have a valid move on the board, this function is called to check if at all there is a possibility of getting a point on the table. There are totally 4 ways to check if we have a point, which is from top to bottom, bottom to top, left to right, and right to left. If a dash is detected there are 2 possibilities which are either there can be a box detected above the dash or below the dash, similarly when a line is detected there is possibility that a box can be detected on the left or the right of the line, and this function checks all these possibilities.  "
   ]
  },
  {
   "cell_type": "code",
   "execution_count": 306,
   "metadata": {
    "collapsed": true
   },
   "outputs": [],
   "source": [
    "def pointCheck(board, Player):\n",
    "    #print('Hey, I am here')\n",
    "    #Have to change this value to make it work !!! \n",
    "    # it has to make sure that you have all the veritcal and dashes to record an entry.\n",
    "    Result = False\n",
    "    Player = Player\n",
    "    board = board\n",
    "    \n",
    "    for i in range(0,43):\n",
    "        if (board[i]=='-'): # Detecting the dash up to down\n",
    "            var = i\n",
    "            x = int(var%13)\n",
    "            y = int(var/13)\n",
    "            if(x ==0):\n",
    "                if ((board[var+4] == '|') & (board[var+6]=='|') & (board[var+13]=='-')):\n",
    "                    #print(var,var+4,var+6,var+13) # write a function to get a point and get out. !!\n",
    "                    Result, board =point(np.array([var,var+4,var+6,var+13]), Player, board)\n",
    "                    #return(Result, board)\n",
    "            if(x ==1):\n",
    "                if ((board[var+5] =='|') & (board[var+7]=='|') & (board[var+13]=='-')):\n",
    "                    Result, board =point(np.array([var,var+5,var+7,var+13]), Player, board)\n",
    "                    #return(Result, board)\n",
    "            if(x ==2):\n",
    "                if ((board[var+6] =='|') & (board[var+8]=='|') & (board[var+13]=='-')):\n",
    "                    Result, board =point(np.array([var,var+6,var+8,var+13]), Player, board)\n",
    "                    #return(Result, board)\n",
    "            if(x ==3):\n",
    "                if ((board[var+7] =='|') & (board[var+9]=='|') & (board[var+13]=='-')):\n",
    "                    Result, board =point(np.array([var,var+7,var+9,var+13]), Player, board)\n",
    "                    #return(Result, board)\n",
    "            #return(Result, board)\n",
    "                    \n",
    "    for i in range(55,12):\n",
    "        if (board[i]=='-'): # Detecting the dash down to up\n",
    "            var = i\n",
    "            x = int(var%13)\n",
    "            y = int(var/13)\n",
    "            if(x ==0):\n",
    "                if ((board[var-9] == '|') & (board[var-7]=='|') & (board[var-13]=='-')):\n",
    "                    #print(var,var+4,var+6,var+13) # write a function to get a point and get out. !!\n",
    "                    Result, board =point(np.array([var-13,var-9,var-7,var]), Player, board)\n",
    "                    #return(Result, board)\n",
    "            if(x ==1):\n",
    "                if ((board[var-8] =='|') & (board[var-6]=='|') & (board[var-13]=='-')):\n",
    "                    Result, board =point(np.array([var-13,var-8,var-6,var]), Player, board)\n",
    "                    #return(Result, board)\n",
    "            if(x ==2):\n",
    "                if ((board[var-7] =='|') & (board[var-5]=='|') & (board[var-13]=='-')):\n",
    "                    Result, board =point(np.array([var-13,var-7,var-5,var]), Player, board)\n",
    "                    #return(Result, board)\n",
    "            if(x ==3):\n",
    "                if ((board[var-6] =='|') & (board[var-4]=='|') & (board[var-13]=='-')):\n",
    "                    Result, board =point(np.array([var-13,var-6,var-4,var]), Player, board)\n",
    "                    #return(Result, board)\n",
    "        \n",
    "            #return(Result, board)\n",
    "    \n",
    "    for i in range(0,43):\n",
    "        if (board[i]=='|'): # Detecting the line back to front\n",
    "            var = i\n",
    "            x = int(var%13)\n",
    "            y = int(var/13)\n",
    "            if(x ==0):\n",
    "                if ((board[var-4] == '-') & (board[var+2]=='|') & (board[var+9]=='-')):\n",
    "                    #print(var,var+4,var+6,var+13) # write a function to get a point and get out. !!\n",
    "                    Result, board =point(np.array([var-4,var,var+2,var+9]), Player, board)\n",
    "                    #return(Result, board)\n",
    "            if(x ==1):\n",
    "                if ((board[var-5] =='-') & (board[var+2]=='|') & (board[var+8]=='-')):\n",
    "                    Result, board =point(np.array([var-5,var,var+2,var+8]), Player, board)\n",
    "                    #return(Result, board)\n",
    "            if(x ==2):\n",
    "                if ((board[var-6] =='-') & (board[var+2]=='|') & (board[var+7]=='-')):\n",
    "                    Result, board =point(np.array([var-6,var,var-5,var+7]), Player, board)\n",
    "                    #return(Result, board)\n",
    "            if(x ==3):\n",
    "                if ((board[var-7] =='-') & (board[var+2]=='|') & (board[var+6]=='-')):\n",
    "                    Result, board =point(np.array([var-7,var,var-4,var+6]), Player, board)\n",
    "                    #return(Result, board)\n",
    "            #return(Result, board)\n",
    "\n",
    "    for i in range(55,12):\n",
    "        if (board[i]=='|'): # Detecting the line front to back\n",
    "            var = i\n",
    "            x = int(var%13)\n",
    "            y = int(var/13)\n",
    "            if(x ==0):\n",
    "                if ((board[var-6] == '-') & (board[var-2]=='|') & (board[var+7]=='-')):\n",
    "                    #print(var,var+4,var+6,var+13) # write a function to get a point and get out. !!\n",
    "                    Result, board =point(np.array([var-6,var-2,var,var+7]), Player, board)\n",
    "                    #return(Result, board)\n",
    "            if(x ==1):\n",
    "                if ((board[var-7] =='-') & (board[var-2]=='|') & (board[var+6]=='-')):\n",
    "                    Result, board =point(np.array([var-7,var-2,var,var+6]), Player, board)\n",
    "                    #return(Result, board)\n",
    "            if(x ==2):\n",
    "                if ((board[var-8] =='-') & (board[var-2]=='|') & (board[var+5]=='-')):\n",
    "                    Result, board =point(np.array([var-8,var-2,var,var+5]), Player, board)\n",
    "                    #return(Result, board)\n",
    "            if(x ==3):\n",
    "                if ((board[var-9] =='-') & (board[var-2]=='|') & (board[var+4]=='-')):\n",
    "                    Result, board =point(np.array([var-9,var-2,var,var+4]), Player, board)\n",
    "            #return(Result, board)\n",
    "    return(Result, board)"
   ]
  },
  {
   "cell_type": "markdown",
   "metadata": {},
   "source": [
    "###### MAIN FUNCTION\n",
    "\n",
    "This is where we test all the defined functions above. "
   ]
  },
  {
   "cell_type": "code",
   "execution_count": 326,
   "metadata": {
    "scrolled": false
   },
   "outputs": [
    {
     "name": "stdout",
     "output_type": "stream",
     "text": [
      "Outcomes: 1976 X wins 2024 O wins 0 draws\n"
     ]
    },
    {
     "data": {
      "image/png": "[encoded data removed]",
      "text/plain": [
       "<matplotlib.figure.Figure at 0x13a86a7f0>"
      ]
     },
     "metadata": {},
     "output_type": "display_data"
    }
   ],
   "source": [
    "maxGames = 4000\n",
    "rho = 0.5\n",
    "epsilonDecayRate = 0.9999\n",
    "epsilon = 1.0\n",
    "graphics = True\n",
    "showMoves = not graphics\n",
    "\n",
    "outcomes = np.zeros(maxGames)\n",
    "epsilons = np.zeros(maxGames)\n",
    "Q = {}\n",
    "Points = False\n",
    "\n",
    "\n",
    "\n",
    "if graphics:\n",
    "    fig = plt.figure(figsize=(10,10))\n",
    "    \n",
    "for nGames in range(maxGames):\n",
    "    epsilon *= epsilonDecayRate\n",
    "    epsilons[nGames] = epsilon\n",
    "    step = 0\n",
    "    #My Empty Board\n",
    "    Win_X = 0\n",
    "    Win_O = 0\n",
    "    board = np.array([ ' ', ' ', ' ', ' '# This is the dashes -1\n",
    "                     , ' ', '$', ' ', '$', ' ', '$', ' ', '$', ' '# This is the vertical + Name -1\n",
    "                     , ' ', ' ', ' ', ' '# This is dashes -2\n",
    "                     , ' ', '$', ' ', '$', ' ', '$', ' ', '$', ' '# This is vertical + Name -2\n",
    "                     , ' ', ' ', ' ', ' '# This is dashes -3\n",
    "                     , ' ', '$', ' ', '$', ' ', '$', ' ', '$', ' '# This is vertical + Name -3\n",
    "                     , ' ', ' ', ' ', ' '# This is dashes -4\n",
    "                     , ' ', '$', ' ', '$', ' ', '$', ' ', '$', ' '# This is verical + Name -4\n",
    "                     , ' ', ' ', ' ', ' '# This is dashes -5\n",
    "                     ])\n",
    "    #defining a few variables.\n",
    "    done = False\n",
    "    Count =0\n",
    "    True_X =0\n",
    "    isTrue_X = False\n",
    "    True_O =0\n",
    "    isTrue_O = False\n",
    "    Count_X_temp =0\n",
    "    Count_O_temp =0\n",
    "    Count_X =0\n",
    "    Count_O =0\n",
    "    while not done: \n",
    "        \n",
    "        step += 1\n",
    "        \n",
    "        # X plays first \n",
    "        boardNew = copy(board)\n",
    "        move = epsilonGreedy(epsilon, Q, board)\n",
    "        \n",
    "        boardNew[move] = Move(move)\n",
    "        \n",
    "        \n",
    "        if (tuple(board),move) not in Q:\n",
    "            Q[(tuple(board),move)] = 0  # initial Q value for new board,move\n",
    "            \n",
    "        if showMoves:\n",
    "            printBoard(boardNew)\n",
    "        #return new state of the board      \n",
    "        Points, boardNew = pointCheck(boardNew,'X')\n",
    "        \n",
    "        Uni_X = np.unique(boardNew,return_counts =True)\n",
    "        for i in range(len(Uni_X[0])):\n",
    "            if(Uni_X[0][i]=='X'):\n",
    "                Count_X_temp = Uni_X[1][i]\n",
    "                \n",
    "        if (Count_X != Count_X_temp):\n",
    "            Count_X =Count_X_temp\n",
    "            isTrue_X = True\n",
    "        \n",
    "        if ((Count_X + Count_O == 16)):#checking if it's a draw\n",
    "            # Game over. No winner.\n",
    "            Q[(tuple(board),move)] = 0\n",
    "            done = True\n",
    "            outcomes[nGames] = 0\n",
    "            continue\n",
    "        \n",
    "        \n",
    "        if (isTrue_X == True):\n",
    "            isTrue_X = False\n",
    "            Q[(tuple(board),move)] = 1\n",
    "            #print('Number of X wins is:',Count_X)\n",
    "            if Count_X >7:\n",
    "                done = True\n",
    "                outcomes[nGames] = 1\n",
    "            \n",
    "            if step > 1:\n",
    "                Q[(tuple(boardOld),moveOld)] += rho * (Q[(tuple(board),move)] - Q[(tuple(boardOld),moveOld)])\n",
    "            \n",
    "            boardOld, moveOld = board, move # remember board and move to Q(board,move) can be updated after next steps\n",
    "            board = boardNew\n",
    "            continue\n",
    "            \n",
    "        if ((Count_X + Count_O == 16)):\n",
    "            # Game over. No winner.\n",
    "            Q[(tuple(board),move)] = 0\n",
    "            done = True\n",
    "            outcomes[nGames] = 0\n",
    "        \n",
    "        else :\n",
    "            # O's turn.  O is a random player!\n",
    "            O_Win = True\n",
    "            while(O_Win == True):\n",
    "                #printBoard(boardNew)\n",
    "                moveO = np.random.choice(np.where(boardNew==' ')[0])\n",
    "                #including Dash or Line from the function. \n",
    "                boardNew[moveO] = Move(moveO)\n",
    "                Points, boardNew = pointCheck(boardNew,'O')\n",
    "                Uni_O = np.unique(boardNew,return_counts =True)\n",
    "                for i in range(len(Uni_O[0])):\n",
    "                    if(Uni_O[0][i]=='O'):\n",
    "                        Count_O_temp = Uni_O[1][i]\n",
    "                \n",
    "                if (Count_O != Count_O_temp):\n",
    "                    Count_O =Count_O_temp\n",
    "                    isTrue_O = True\n",
    "                \n",
    "                if ((Count_X + Count_O == 16)):\n",
    "                    # Game over. No winner.\n",
    "                    Q[(tuple(board),move)] = 0\n",
    "                    done = True\n",
    "                    outcomes[nGames] = 0\n",
    "                    continue\n",
    "                \n",
    "                \n",
    "                if (isTrue_O == True):\n",
    "                    isTrue_O =False\n",
    "                    # O won!\n",
    "                    if (tuple(board),move) not in Q:#creating a new entry in the table\n",
    "                        Q[(tuple(board),move)] = 0\n",
    "                    Q[(tuple(board),move)] += rho * (-1 - Q[(tuple(board),move)])\n",
    "                    \n",
    "                    if (Count_O >7):\n",
    "                        outcomes[nGames] = -1\n",
    "                        done = True\n",
    "                        O_Win = False\n",
    "\n",
    "        \n",
    "                    if step > 1:\n",
    "                        Q[(tuple(boardOld),moveOld)] += rho * (Q[(tuple(board),move)] - Q[(tuple(boardOld),moveOld)])\n",
    "            \n",
    "                    boardOld, moveOld = board, move # remember board and move to Q(board,move) can be updated after next steps\n",
    "                    board = boardNew\n",
    "                    continue\n",
    "                    \n",
    "                O_Win = False\n",
    "                continue\n",
    "                \n",
    "        if (tuple(board),move) not in Q:\n",
    "            Q[(tuple(board),move)] = 0  # initial Q value for new board,move\n",
    "            \n",
    "        if step > 1:\n",
    "            Q[(tuple(boardOld),moveOld)] += rho * (Q[(tuple(board),move)] - Q[(tuple(boardOld),moveOld)])\n",
    "            \n",
    "        boardOld, moveOld = board, move # remember board and move to Q(board,move) can be updated after next steps\n",
    "        board = boardNew\n",
    "        \n",
    "        #printing graphics\n",
    "        if graphics and (nGames % (maxGames/10) == 0 or nGames == maxGames-1):\n",
    "            fig.clf() \n",
    "            plotOutcomes(outcomes,epsilons,maxGames,nGames-1)\n",
    "            clear_output(wait=True)\n",
    "            display(fig);\n",
    "\n",
    "if graphics:\n",
    "    clear_output(wait=True)\n",
    "print('Outcomes: {:d} X wins {:d} O wins {:d} draws'.format(np.sum(outcomes==1), np.sum(outcomes==-1),\n",
    "                                                            np.sum(outcomes==0)))"
   ]
  },
  {
   "cell_type": "markdown",
   "metadata": {},
   "source": [
    "There might be disturbancies in the number wins since we are probably kind of making X learn a few of the possibilities from 44Million possible moves. Not everytime it might give more number of wins for small values. "
   ]
  },
  {
   "cell_type": "code",
   "execution_count": 315,
   "metadata": {},
   "outputs": [
    {
     "name": "stdout",
     "output_type": "stream",
     "text": [
      "\n",
      ".-.-.-.-.\n",
      "|X|O|O|O|\n",
      ".-.-.-.-.\n",
      "|O|X|O|O|\n",
      ".-.-.-.-.\n",
      "|$|X|O|O|\n",
      ". .-.-.-.\n",
      "|$|O|$ $|\n",
      ".-.-.-.-.\n"
     ]
    }
   ],
   "source": [
    "printBoard(board)"
   ]
  },
  {
   "cell_type": "code",
   "execution_count": 321,
   "metadata": {
    "scrolled": false
   },
   "outputs": [
    {
     "name": "stdout",
     "output_type": "stream",
     "text": [
      "\n",
      ".-.-. . .\n",
      "|$ $ $|$|\n",
      ".-.-.-. .\n",
      "|$ $ $|$ \n",
      ".-.-.-. .\n",
      " $|$|$ $ \n",
      ".-. .-.-.\n",
      " $|$ $|$|\n",
      ".-.-. .-.\n"
     ]
    },
    {
     "data": {
      "text/plain": [
       "1.0"
      ]
     },
     "execution_count": 321,
     "metadata": {},
     "output_type": "execute_result"
    }
   ],
   "source": [
    "board_x =('-','-',' ',' ','|','$',' ','$',' ','$','|','$','|','-','-','-',' ','|','$',\n",
    "           ' ','$',' ','$','|','$',' ','-','-','-',' ',' ','$','|','$','|','$',' ','$',\n",
    "           ' ','-',' ','-','-',' ','$','|','$',' ','$','|','$','|','-','-',' ','-')\n",
    "printBoard(board_x)\n",
    "Q[(tuple(board_x),19)]\n",
    "          "
   ]
  },
  {
   "cell_type": "markdown",
   "metadata": {},
   "source": [
    "If the next move for the current state is 19, X always gets a point and hence a value of 1.0 is assigned and stored and if any time such move occours, X knows that he has to move to position 19 in order to maintain that 1.0 else it looses points and the max function is to make sure that X has the maximum number of points."
   ]
  },
  {
   "cell_type": "code",
   "execution_count": 323,
   "metadata": {
    "scrolled": false
   },
   "outputs": [
    {
     "name": "stdout",
     "output_type": "stream",
     "text": [
      "\n",
      ".-.-. . .\n",
      "|X|X|$|$|\n",
      ".-.-.-. .\n",
      "|X|$ $|$ \n",
      ".-.-.-. .\n",
      " $|X|$ $ \n",
      ".-.-.-.-.\n",
      " $|$ $|$|\n",
      ".-.-. .-.\n"
     ]
    },
    {
     "data": {
      "text/plain": [
       "-0.25"
      ]
     },
     "execution_count": 323,
     "metadata": {},
     "output_type": "execute_result"
    }
   ],
   "source": [
    "board_x1 =('-','-',' ',' ','|','X','|','X','|','$','|','$','|','-','-','-',' ','|','X','|','$',' ','$','|',\n",
    "           '$',' ','-','-','-',' ',' ','$','|','X','|','$',' ','$',' ','-','-','-','-',' ','$','|','$',' ',\n",
    "           '$','|','$','|','-','-',' ','-')\n",
    "printBoard(board_x1)\n",
    "Q[(tuple(board_x1),16)]\n"
   ]
  },
  {
   "cell_type": "markdown",
   "metadata": {},
   "source": [
    "This particular move has caused O to gain a point and hence X looses a point and hence the -0.25 representing that X loosing the point. "
   ]
  },
  {
   "cell_type": "markdown",
   "metadata": {},
   "source": [
    "## References \n",
    "\n",
    "[1]. Lecture videos by Professor Chuck Anderson has helped a lot in designing the project.\n",
    "\n",
    "[2]. Professors Chuck Anderson's lecture notes have been used and all the ideas and similartities have been adapted from him lecture notes.\n",
    "\n",
    "[3]. Reinforcement Learning: An Introduction by Richard S. Sutton and Andrew G. Barto has been refered to explain reinforcement learning briefly.\n",
    "\n"
   ]
  },
  {
   "cell_type": "markdown",
   "metadata": {},
   "source": [
    "### Acknowledgement \n",
    "\n",
    "I thank Professor Chuck Anderson for helping me with learning Machine Learning, and driving us to do this final project. There is still so much out there to learn and explore in this feild and I can't thank enough to Professor to make this a fun learning. "
   ]
  },
  {
   "cell_type": "markdown",
   "metadata": {},
   "source": [
    "### Future Work\n",
    "\n",
    "I shall try implementing a second Q table to the O variable so that learning happens in both ways and see which one outperforms.\n",
    "\n",
    "Shall also try implementing atleast 1 million games to see any significant learning.\n",
    "\n",
    "Shall also try change the learning rate, epsilon values to see if it gives better results. "
   ]
  },
  {
   "cell_type": "markdown",
   "metadata": {},
   "source": [
    "*Please find the screenshot attachment for 100000 games*"
   ]
  },
  {
   "cell_type": "code",
   "execution_count": null,
   "metadata": {
    "collapsed": true
   },
   "outputs": [],
   "source": []
  }
 ],
 "metadata": {
  "kernelspec": {
   "display_name": "Python 3",
   "language": "python",
   "name": "python3"
  },
  "language_info": {
   "codemirror_mode": {
    "name": "ipython",
    "version": 3
   },
   "file_extension": ".py",
   "mimetype": "text/x-python",
   "name": "python",
   "nbconvert_exporter": "python",
   "pygments_lexer": "ipython3",
   "version": "3.6.3"
  }
 },
 "nbformat": 4,
 "nbformat_minor": 2
}
